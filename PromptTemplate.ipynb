{
 "cells": [
  {
   "cell_type": "markdown",
   "id": "445c9bbd",
   "metadata": {},
   "source": [
    "Load necessary libraries"
   ]
  },
  {
   "cell_type": "code",
   "execution_count": 1,
   "id": "d082b699",
   "metadata": {},
   "outputs": [],
   "source": [
    "from langchain.prompts import PromptTemplate\n",
    "from langchain.chains import LLMChain\n",
    "from langchain_openai import AzureChatOpenAI\n",
    "import os\n",
    "from dotenv import load_dotenv\n",
    "\n",
    "load_dotenv()\n",
    "\n",
    "# (Use your AzureChatOpenAI setup as before)\n",
    "llm = AzureChatOpenAI(\n",
    "    azure_endpoint=os.environ[\"AZURE_OPENAI_ENDPOINT\"],\n",
    "    api_key=os.environ[\"AZURE_OPENAI_KEY\"],\n",
    "    deployment_name=os.environ[\"AZURE_OPENAI_DEPLOYMENT\"],\n",
    "    api_version=os.environ.get(\"AZURE_OPENAI_API_VERSION\", \"2023-05-15\")\n",
    ")"
   ]
  },
  {
   "cell_type": "markdown",
   "id": "e4e3eb2b",
   "metadata": {},
   "source": [
    "Create a prompt template with variable"
   ]
  },
  {
   "cell_type": "code",
   "execution_count": 2,
   "id": "98b10d48",
   "metadata": {},
   "outputs": [],
   "source": [
    "prompt = PromptTemplate(\n",
    "    input_variables=[\"city\"],\n",
    "    template=\"Tell me one fun fact about {city}.\"\n",
    ")"
   ]
  },
  {
   "cell_type": "markdown",
   "id": "1b9a3ee4",
   "metadata": {},
   "source": [
    "Create a chain with prompt & llm initialization"
   ]
  },
  {
   "cell_type": "code",
   "execution_count": null,
   "id": "01371ab9",
   "metadata": {},
   "outputs": [],
   "source": [
    "chain = prompt | llm"
   ]
  },
  {
   "cell_type": "markdown",
   "id": "ef9179df",
   "metadata": {},
   "source": [
    "Query LLM with the chain"
   ]
  },
  {
   "cell_type": "code",
   "execution_count": 5,
   "id": "096b20c4",
   "metadata": {},
   "outputs": [
    {
     "name": "stdout",
     "output_type": "stream",
     "text": [
      "Sure! Did you know that Berlin is home to the largest train station in Europe? The Berlin Hauptbahnhof is a massive, modern marvel of architecture, with multiple levels of platforms and shops, making it a major transportation hub for the city. It opened in 2006 and serves millions of travelers every year!\n"
     ]
    }
   ],
   "source": [
    "result = chain.invoke({\"city\": \"Berlin\"})\n",
    "print(result.content)"
   ]
  }
 ],
 "metadata": {
  "kernelspec": {
   "display_name": "langGraph",
   "language": "python",
   "name": "python3"
  },
  "language_info": {
   "codemirror_mode": {
    "name": "ipython",
    "version": 3
   },
   "file_extension": ".py",
   "mimetype": "text/x-python",
   "name": "python",
   "nbconvert_exporter": "python",
   "pygments_lexer": "ipython3",
   "version": "3.11.13"
  }
 },
 "nbformat": 4,
 "nbformat_minor": 5
}
