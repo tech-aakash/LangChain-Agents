{
 "cells": [
  {
   "cell_type": "code",
   "execution_count": 19,
   "id": "1820e770",
   "metadata": {},
   "outputs": [],
   "source": [
    "from typing import TypedDict, List, Tuple\n",
    "from langchain_openai import AzureChatOpenAI\n",
    "from langgraph.graph import StateGraph, END\n",
    "import os\n",
    "\n",
    "\n",
    "llm = AzureChatOpenAI(\n",
    "    azure_endpoint=os.environ[\"AZURE_OPENAI_ENDPOINT\"],\n",
    "    api_key=os.environ[\"AZURE_OPENAI_KEY\"],\n",
    "    deployment_name=os.environ[\"AZURE_OPENAI_DEPLOYMENT\"],\n",
    "    api_version=os.environ.get(\"AZURE_OPENAI_API_VERSION\", \"2023-05-15\")\n",
    ")"
   ]
  },
  {
   "cell_type": "code",
   "execution_count": 17,
   "id": "da2d7e0c",
   "metadata": {},
   "outputs": [],
   "source": [
    "# --- 1. Define your conversation state schema\n",
    "class ChatState(TypedDict):\n",
    "    history: List[Tuple[str, str]]  # [(\"user\", \"message\"), (\"assistant\", \"message\"), ...]\n",
    "    input: str                      # latest user input\n"
   ]
  },
  {
   "cell_type": "code",
   "execution_count": 23,
   "id": "c99d3898",
   "metadata": {},
   "outputs": [],
   "source": [
    "def chat_step(state: ChatState) -> ChatState:\n",
    "    messages = [{\"role\": \"system\", \"content\": \"You are a helpful assistant.\"}]\n",
    "    for speaker, text in state[\"history\"]:\n",
    "        messages.append({\"role\": speaker, \"content\": text})\n",
    "    messages.append({\"role\": \"user\", \"content\": state[\"input\"]})\n",
    "    response = llm.invoke(messages)\n",
    "    reply = response.content\n",
    "    # Update conversation history\n",
    "    state[\"history\"].append((\"user\", state[\"input\"]))\n",
    "    state[\"history\"].append((\"assistant\", reply))\n",
    "    return state"
   ]
  },
  {
   "cell_type": "code",
   "execution_count": 24,
   "id": "1f8db921",
   "metadata": {},
   "outputs": [],
   "source": [
    "workflow = StateGraph(state_schema=ChatState)\n",
    "workflow.add_node(\"chat\", chat_step)\n",
    "workflow.add_edge(\"chat\", END)\n",
    "workflow.set_entry_point(\"chat\")\n",
    "app = workflow.compile()   # <-- This is KEY!"
   ]
  },
  {
   "cell_type": "code",
   "execution_count": 25,
   "id": "46f5e71b",
   "metadata": {},
   "outputs": [
    {
     "name": "stdout",
     "output_type": "stream",
     "text": [
      "AI: The **2018 FIFA World Cup** was won by **France**. They defeated **Croatia** 4–2 in the final, which was held on **July 15, 2018**, at the Luzhniki Stadium in **Moscow, Russia**. This victory marked France's second World Cup title, with their first being in **1998**.\n"
     ]
    }
   ],
   "source": [
    "state = ChatState(history=[], input=\"Who won the 2018 FIFA World Cup?\")\n",
    "state = app.invoke(state)\n",
    "print(\"AI:\", state[\"history\"][-1][1])  # prints the assistant's answer\n"
   ]
  },
  {
   "cell_type": "code",
   "execution_count": 26,
   "id": "44eaeb55",
   "metadata": {},
   "outputs": [
    {
     "name": "stdout",
     "output_type": "stream",
     "text": [
      "AI: The captain of the **France** team that won the 2018 FIFA World Cup was **Hugo Lloris**, the team's goalkeeper. Lloris played a crucial role in the tournament, providing leadership and delivering important performances throughout, including key saves in several matches.\n"
     ]
    }
   ],
   "source": [
    "state[\"input\"] = \"Who was the captain of that team?\"\n",
    "state = app.invoke(state)\n",
    "print(\"AI:\", state[\"history\"][-1][1])"
   ]
  },
  {
   "cell_type": "code",
   "execution_count": 27,
   "id": "ce255314",
   "metadata": {},
   "outputs": [
    {
     "name": "stdout",
     "output_type": "stream",
     "text": [
      "AI: The final of the **2018 FIFA World Cup** was played at the **Luzhniki Stadium** in **Moscow, Russia** on **July 15, 2018**. This iconic stadium, the largest in Russia with a capacity of approximately 78,000 spectators, served as the centerpiece venue for the tournament.\n"
     ]
    }
   ],
   "source": [
    "state[\"input\"] = \"Where was the final played?\"\n",
    "state = app.invoke(state)\n",
    "print(\"AI:\", state[\"history\"][-1][1])"
   ]
  },
  {
   "cell_type": "markdown",
   "id": "e174f29d",
   "metadata": {},
   "source": [
    "Memory based questions using lang graph & uuid"
   ]
  },
  {
   "cell_type": "code",
   "execution_count": 6,
   "id": "1f2249b9",
   "metadata": {},
   "outputs": [],
   "source": [
    "import uuid\n",
    "from IPython.display import Image, display\n",
    "from langchain_core.messages import HumanMessage\n",
    "from langgraph.checkpoint.memory import MemorySaver\n",
    "from langgraph.graph import START, MessagesState, StateGraph\n",
    "from langchain_openai import AzureChatOpenAI  # Use Azure model\n",
    "import os"
   ]
  },
  {
   "cell_type": "markdown",
   "id": "6b965f56",
   "metadata": {},
   "source": [
    "Start a new graph"
   ]
  },
  {
   "cell_type": "code",
   "execution_count": 4,
   "id": "285ae8c4",
   "metadata": {},
   "outputs": [],
   "source": [
    "# Define a new graph\n",
    "workflow = StateGraph(state_schema=MessagesState)"
   ]
  },
  {
   "cell_type": "markdown",
   "id": "f5f7f78f",
   "metadata": {},
   "source": [
    "Load environment variables"
   ]
  },
  {
   "cell_type": "code",
   "execution_count": 7,
   "id": "3a40acd0",
   "metadata": {},
   "outputs": [],
   "source": [
    "# Define a chat model (Azure version)\n",
    "model = AzureChatOpenAI(\n",
    "    azure_endpoint=os.environ[\"AZURE_OPENAI_ENDPOINT\"],\n",
    "    api_key=os.environ[\"AZURE_OPENAI_KEY\"],\n",
    "    deployment_name=os.environ[\"AZURE_OPENAI_DEPLOYMENT\"],\n",
    "    api_version=os.environ.get(\"AZURE_OPENAI_API_VERSION\", \"2023-05-15\")\n",
    ")"
   ]
  },
  {
   "cell_type": "markdown",
   "id": "3f4bf145",
   "metadata": {},
   "source": [
    "Function for chat node"
   ]
  },
  {
   "cell_type": "code",
   "execution_count": 8,
   "id": "88db3522",
   "metadata": {},
   "outputs": [],
   "source": [
    "def call_model(state: MessagesState):\n",
    "    response = model.invoke(state[\"messages\"])\n",
    "    # We return a list, because this will get added to the existing list\n",
    "    return {\"messages\": response}"
   ]
  },
  {
   "cell_type": "markdown",
   "id": "580b0f17",
   "metadata": {},
   "source": [
    "Add Start node to graph workflow"
   ]
  },
  {
   "cell_type": "code",
   "execution_count": 9,
   "id": "ae7089fb",
   "metadata": {},
   "outputs": [
    {
     "data": {
      "text/plain": [
       "<langgraph.graph.state.StateGraph at 0x10d837850>"
      ]
     },
     "execution_count": 9,
     "metadata": {},
     "output_type": "execute_result"
    }
   ],
   "source": [
    "workflow.add_edge(START, \"model\")\n",
    "workflow.add_node(\"model\", call_model)"
   ]
  },
  {
   "cell_type": "markdown",
   "id": "e4e55785",
   "metadata": {},
   "source": [
    "Creates a memory for conversation"
   ]
  },
  {
   "cell_type": "code",
   "execution_count": 10,
   "id": "58355623",
   "metadata": {},
   "outputs": [],
   "source": [
    "memory = MemorySaver()\n",
    "app = workflow.compile(checkpointer=memory)\n"
   ]
  },
  {
   "cell_type": "markdown",
   "id": "fa6f37fa",
   "metadata": {},
   "source": [
    "Creates a unique thread id for maintaining the isolation of memory"
   ]
  },
  {
   "cell_type": "code",
   "execution_count": 11,
   "id": "34dd2ffa",
   "metadata": {},
   "outputs": [],
   "source": [
    "thread_id = uuid.uuid4()\n",
    "config = {\"configurable\": {\"thread_id\": thread_id}}"
   ]
  },
  {
   "cell_type": "code",
   "execution_count": 12,
   "id": "e93686dc",
   "metadata": {},
   "outputs": [
    {
     "name": "stdout",
     "output_type": "stream",
     "text": [
      "================================\u001b[1m Human Message \u001b[0m=================================\n",
      "\n",
      "hi! I'm bob\n",
      "==================================\u001b[1m Ai Message \u001b[0m==================================\n",
      "\n",
      "Hi, Bob! 😊 How’s it going? What can I help you with today?\n"
     ]
    }
   ],
   "source": [
    "input_message = HumanMessage(content=\"hi! I'm bob\")\n",
    "for event in app.stream({\"messages\": [input_message]}, config, stream_mode=\"values\"):\n",
    "    event[\"messages\"][-1].pretty_print()\n"
   ]
  },
  {
   "cell_type": "code",
   "execution_count": 13,
   "id": "12bb4e88",
   "metadata": {},
   "outputs": [
    {
     "name": "stdout",
     "output_type": "stream",
     "text": [
      "================================\u001b[1m Human Message \u001b[0m=================================\n",
      "\n",
      "what was my name?\n",
      "==================================\u001b[1m Ai Message \u001b[0m==================================\n",
      "\n",
      "Your name is Bob! 😊 Did I get it right?\n"
     ]
    }
   ],
   "source": [
    "input_message = HumanMessage(content=\"what was my name?\")\n",
    "for event in app.stream({\"messages\": [input_message]}, config, stream_mode=\"values\"):\n",
    "    event[\"messages\"][-1].pretty_print()"
   ]
  },
  {
   "cell_type": "code",
   "execution_count": 14,
   "id": "674cc515",
   "metadata": {},
   "outputs": [
    {
     "name": "stdout",
     "output_type": "stream",
     "text": [
      "================================\u001b[1m Human Message \u001b[0m=================================\n",
      "\n",
      "what was my age?\n",
      "==================================\u001b[1m Ai Message \u001b[0m==================================\n",
      "\n",
      "You haven’t mentioned your age yet, Bob! 😊 But feel free to share if you’d like, or let me know how I can help you!\n"
     ]
    }
   ],
   "source": [
    "input_message = HumanMessage(content=\"what was my age?\")\n",
    "for event in app.stream({\"messages\": [input_message]}, config, stream_mode=\"values\"):\n",
    "    event[\"messages\"][-1].pretty_print()"
   ]
  }
 ],
 "metadata": {
  "kernelspec": {
   "display_name": "langGraph",
   "language": "python",
   "name": "python3"
  },
  "language_info": {
   "codemirror_mode": {
    "name": "ipython",
    "version": 3
   },
   "file_extension": ".py",
   "mimetype": "text/x-python",
   "name": "python",
   "nbconvert_exporter": "python",
   "pygments_lexer": "ipython3",
   "version": "3.11.13"
  }
 },
 "nbformat": 4,
 "nbformat_minor": 5
}
