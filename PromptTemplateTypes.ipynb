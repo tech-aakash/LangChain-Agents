{
 "cells": [
  {
   "cell_type": "code",
   "execution_count": 1,
   "id": "244e63fc",
   "metadata": {},
   "outputs": [],
   "source": [
    "from langchain.prompts import ChatPromptTemplate, SystemMessagePromptTemplate, HumanMessagePromptTemplate\n",
    "from langchain_openai import AzureChatOpenAI\n",
    "import os\n",
    "from dotenv import load_dotenv\n",
    "\n",
    "load_dotenv()\n",
    "\n",
    "llm = AzureChatOpenAI(\n",
    "    azure_endpoint=os.environ[\"AZURE_OPENAI_ENDPOINT\"],\n",
    "    api_key=os.environ[\"AZURE_OPENAI_KEY\"],\n",
    "    deployment_name=os.environ[\"AZURE_OPENAI_DEPLOYMENT\"],\n",
    "    api_version=os.environ.get(\"AZURE_OPENAI_API_VERSION\", \"2023-05-15\")\n",
    ")"
   ]
  },
  {
   "cell_type": "code",
   "execution_count": 2,
   "id": "f6cd0e98",
   "metadata": {},
   "outputs": [],
   "source": [
    "chat_prompt = ChatPromptTemplate.from_messages([\n",
    "    SystemMessagePromptTemplate.from_template(\"You are a friendly, helpful travel assistant.\"),\n",
    "    HumanMessagePromptTemplate.from_template(\"What are 3 fun facts about {city}?\")\n",
    "])"
   ]
  },
  {
   "cell_type": "code",
   "execution_count": 3,
   "id": "0dd0bfc4",
   "metadata": {},
   "outputs": [],
   "source": [
    "chain = chat_prompt | llm"
   ]
  },
  {
   "cell_type": "code",
   "execution_count": 4,
   "id": "f5335f9d",
   "metadata": {},
   "outputs": [
    {
     "name": "stdout",
     "output_type": "stream",
     "text": [
      "Sure! Berlin is an exciting city with a fascinating history and culture. Here are three fun facts about Berlin:\n",
      "\n",
      "1. **Home to More Than 1,700 Bridges**  \n",
      "   While Venice is famous for its canals and bridges, Berlin has even more! The city boasts over 1,700 bridges, making it one of the most bridge-rich places in Europe. The Spree and Havel rivers, along with countless canals, create picturesque waterways perfect for strolls and boat tours.\n",
      "\n",
      "2. **The Largest Open-Air Gallery in the World**  \n",
      "   The East Side Gallery is a 1.3-kilometer-long section of the Berlin Wall transformed into an open-air gallery by artists from around the world after its fall in 1989. It features over 100 politically-charged and vibrant murals, making it a must-see destination for art lovers and history buffs alike.\n",
      "\n",
      "3. **Berlin Is a Vegan Food Haven**  \n",
      "   Berlin is one of the most vegan-friendly cities in the world, offering an impressive array of plant-based restaurants, cafés, and markets. From vegan doner kebabs to fully plant-based fine dining experiences, you’ll find options that cater to every taste and preference!\n",
      "\n",
      "Let me know if you'd like tips for exploring Berlin or learning more! 😊\n"
     ]
    }
   ],
   "source": [
    "result = chain.invoke({\"city\": \"Berlin\"})\n",
    "print(result.content)"
   ]
  },
  {
   "cell_type": "markdown",
   "id": "a718b5c2",
   "metadata": {},
   "source": [
    "System Message & Human Message"
   ]
  },
  {
   "cell_type": "code",
   "execution_count": 5,
   "id": "89069fa0",
   "metadata": {},
   "outputs": [],
   "source": [
    "chat_prompt = ChatPromptTemplate.from_messages([\n",
    "    SystemMessagePromptTemplate.from_template(\"You are a senior Python developer.\"),\n",
    "    HumanMessagePromptTemplate.from_template(\"Write a function to reverse a string.\"),\n",
    "    HumanMessagePromptTemplate.from_template(\"Now optimize it for speed.\"),\n",
    "])"
   ]
  },
  {
   "cell_type": "markdown",
   "id": "e8269912",
   "metadata": {},
   "source": [
    "LLM call"
   ]
  },
  {
   "cell_type": "code",
   "execution_count": 7,
   "id": "228e8e44",
   "metadata": {},
   "outputs": [
    {
     "name": "stdout",
     "output_type": "stream",
     "text": [
      "Here's the implementation of a function to reverse a string, optimized for speed using Python's native capabilities:\n",
      "\n",
      "```python\n",
      "def reverse_string(s: str) -> str:\n",
      "    return s[::-1]\n",
      "```\n",
      "\n",
      "### Explanation:\n",
      "- The slicing method (`[::-1]`) is highly optimized in Python's internal implementation for reversing sequences, including strings. \n",
      "- It is much faster than alternatives like iteration or manual concatenation.\n",
      "  \n",
      "The above code is both concise and the fastest approach Python offers for reversing a string. Further optimization is not required unless benchmarking indicates specific edge cases in your usage.\n"
     ]
    }
   ],
   "source": [
    "chain = chat_prompt | llm\n",
    "\n",
    "result = chain.invoke({})\n",
    "print(result.content)"
   ]
  },
  {
   "cell_type": "markdown",
   "id": "10222ca9",
   "metadata": {},
   "source": [
    "AI Message"
   ]
  },
  {
   "cell_type": "code",
   "execution_count": 9,
   "id": "1122f71a",
   "metadata": {},
   "outputs": [],
   "source": [
    "from langchain.prompts import AIMessagePromptTemplate\n",
    "\n",
    "chat_prompt = ChatPromptTemplate.from_messages([\n",
    "    SystemMessagePromptTemplate.from_template(\"You are a translation bot. Translate everything to French.\"),\n",
    "    HumanMessagePromptTemplate.from_template(\"Hello!\"),\n",
    "    AIMessagePromptTemplate.from_template(\"Bonjour!\"),   # Example AI response\n",
    "    HumanMessagePromptTemplate.from_template(\"{input}\")\n",
    "])"
   ]
  },
  {
   "cell_type": "code",
   "execution_count": 13,
   "id": "557be022",
   "metadata": {},
   "outputs": [
    {
     "name": "stdout",
     "output_type": "stream",
     "text": [
      "Mon nom est Aakash.\n"
     ]
    }
   ],
   "source": [
    "chain = chat_prompt | llm\n",
    "\n",
    "# Translate a new phrase\n",
    "result = chain.invoke({\"input\": \"My name is Aakash\"})\n",
    "print(result.content)"
   ]
  },
  {
   "cell_type": "markdown",
   "id": "199d8a91",
   "metadata": {},
   "source": [
    "Prompt Template with multiple "
   ]
  },
  {
   "cell_type": "code",
   "execution_count": 14,
   "id": "8303674e",
   "metadata": {},
   "outputs": [],
   "source": [
    "from langchain.prompts import AIMessagePromptTemplate\n",
    "from langchain.prompts import ChatPromptTemplate, SystemMessagePromptTemplate, HumanMessagePromptTemplate\n",
    "\n",
    "\n",
    "chat_prompt = ChatPromptTemplate.from_messages([\n",
    "    SystemMessagePromptTemplate.from_template(\"You are an assistant who answers questions about {topic}.\"),\n",
    "    HumanMessagePromptTemplate.from_template(\"{question}\")\n",
    "])\n"
   ]
  },
  {
   "cell_type": "code",
   "execution_count": 15,
   "id": "34264bd8",
   "metadata": {},
   "outputs": [
    {
     "name": "stdout",
     "output_type": "stream",
     "text": [
      "A neural network is a type of computational model inspired by the structure and functioning of biological brains. It is a core concept in the field of artificial intelligence (AI) and is widely used for tasks that involve recognizing patterns, making predictions, and learning from large amounts of data. Neural networks are commonly used in tasks such as image recognition, natural language processing, autonomous driving, and more.\n",
      "\n",
      "### Key Components of a Neural Network:\n",
      "1. **Neurons (Nodes):**\n",
      "   - A neural network consists of interconnected nodes (or neurons), which process input data and pass information to other nodes in the network. Each neuron mimics a simplified version of biological neurons by performing mathematical operations and passing outputs forward.\n",
      "\n",
      "2. **Layers:**\n",
      "   - Neural networks are organized into layers:\n",
      "     - **Input Layer:** Receives the raw data (e.g., images, text, or numerical data).\n",
      "     - **Hidden Layers:** Perform computations and extract features from the data. There can be one or many hidden layers depending on the complexity of the network.\n",
      "     - **Output Layer:** Produces the final result or prediction, such as identifying a cat in an image.\n",
      "\n",
      "3. **Weights and Biases:**\n",
      "   - Connections between neurons have adjustable weights, which determine the importance of the input for each neuron. Biases allow the network to shift outputs and effectively represent more complex patterns.\n",
      "\n",
      "4. **Activation Function:**\n",
      "   - Each neuron applies an **activation function** to its input to decide whether to \"fire\" or pass information to the next layer. Common activation functions include sigmoid, ReLU (Rectified Linear Unit), and tanh.\n",
      "\n",
      "5. **Training and Learning:**\n",
      "   - Neural networks \"learn\" by adjusting weights and biases during training using a process called **backpropagation**. This involves calculating errors (the difference between predicted outputs and actual outputs) and updating parameters with methods like gradient descent to minimize the error over time.\n",
      "\n",
      "### Types of Neural Networks:\n",
      "Depending on the structure and purpose, there are different types of neural networks:\n",
      "1. **Feedforward Neural Networks (FNNs):** Information flows in one direction, from input to output, without looping back.\n",
      "2. **Convolutional Neural Networks (CNNs):** Specialized for image and video processing, they use convolutional layers to capture spatial relationships in data.\n",
      "3. **Recurrent Neural Networks (RNNs):** Designed for sequential data (e.g., time series or natural language), they use loops or memory to process information over time.\n",
      "4. **Generative Adversarial Networks (GANs):** Consist of two networks (a generator and a discriminator) that compete to produce realistic outputs, commonly used for creating synthetic data or images.\n",
      "\n",
      "### How Neural Networks Work:\n",
      "When given data (e.g., an image or a sentence), the neural network processes it by passing it through the layers of neurons. Each layer extracts increasingly complex features, and the output layer provides the result—such as predicting a label or generating a response. Through training on large datasets, neural networks can learn patterns and generalize to make predictions on unseen data.\n",
      "\n",
      "Neural networks are fundamental tools for modern AI and have become a backbone of many advanced applications across industries.\n"
     ]
    }
   ],
   "source": [
    "result = (chat_prompt | llm).invoke({\"topic\": \"AI\", \"question\": \"What is a neural network?\"})\n",
    "print(result.content)"
   ]
  }
 ],
 "metadata": {
  "kernelspec": {
   "display_name": "langGraph",
   "language": "python",
   "name": "python3"
  },
  "language_info": {
   "codemirror_mode": {
    "name": "ipython",
    "version": 3
   },
   "file_extension": ".py",
   "mimetype": "text/x-python",
   "name": "python",
   "nbconvert_exporter": "python",
   "pygments_lexer": "ipython3",
   "version": "3.11.13"
  }
 },
 "nbformat": 4,
 "nbformat_minor": 5
}
