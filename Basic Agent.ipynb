{
 "cells": [
  {
   "cell_type": "markdown",
   "id": "aeeece97",
   "metadata": {},
   "source": [
    "Load necessary libraries"
   ]
  },
  {
   "cell_type": "code",
   "execution_count": 2,
   "id": "89587f25",
   "metadata": {},
   "outputs": [],
   "source": [
    "import os\n",
    "from langchain_openai import AzureChatOpenAI\n",
    "from dotenv import load_dotenv\n",
    "\n",
    "load_dotenv()\n",
    "\n",
    "azure_endpoint = os.environ.get(\"AZURE_OPENAI_ENDPOINT\")\n",
    "azure_key = os.environ.get(\"AZURE_OPENAI_KEY\")\n",
    "azure_deployment = os.environ.get(\"AZURE_OPENAI_DEPLOYMENT\")\n",
    "azure_api_version = os.environ.get(\"AZURE_OPENAI_API_VERSION\")"
   ]
  },
  {
   "cell_type": "markdown",
   "id": "b91bd90f",
   "metadata": {},
   "source": [
    "Initialize LLM"
   ]
  },
  {
   "cell_type": "code",
   "execution_count": 4,
   "id": "73bc848e",
   "metadata": {},
   "outputs": [],
   "source": [
    "# (Use your AzureChatOpenAI setup as before)\n",
    "llm = AzureChatOpenAI(\n",
    "    azure_endpoint=os.environ[\"AZURE_OPENAI_ENDPOINT\"],\n",
    "    api_key=os.environ[\"AZURE_OPENAI_KEY\"],\n",
    "    deployment_name=os.environ[\"AZURE_OPENAI_DEPLOYMENT\"],\n",
    "    api_version=os.environ.get(\"AZURE_OPENAI_API_VERSION\", \"2023-05-15\")\n",
    ")"
   ]
  },
  {
   "cell_type": "markdown",
   "id": "96df541a",
   "metadata": {},
   "source": [
    "Query LLM"
   ]
  },
  {
   "cell_type": "code",
   "execution_count": 5,
   "id": "ae4a805a",
   "metadata": {},
   "outputs": [
    {
     "name": "stdout",
     "output_type": "stream",
     "text": [
      "The capital of France is **Paris**.\n"
     ]
    }
   ],
   "source": [
    "# Use a chat-style input\n",
    "response = llm.invoke(\"What is the capital of France?\")\n",
    "print(response.content)"
   ]
  }
 ],
 "metadata": {
  "kernelspec": {
   "display_name": "langGraph",
   "language": "python",
   "name": "python3"
  },
  "language_info": {
   "codemirror_mode": {
    "name": "ipython",
    "version": 3
   },
   "file_extension": ".py",
   "mimetype": "text/x-python",
   "name": "python",
   "nbconvert_exporter": "python",
   "pygments_lexer": "ipython3",
   "version": "3.11.13"
  }
 },
 "nbformat": 4,
 "nbformat_minor": 5
}
